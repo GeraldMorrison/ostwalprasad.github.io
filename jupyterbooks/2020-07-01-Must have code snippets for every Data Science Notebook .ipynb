{
 "cells": [
  {
   "cell_type": "markdown",
   "metadata": {
    "colab_type": "text",
    "id": "mNb-Mg6TUiRi"
   },
   "source": [
    "# Must have code snippets for your every Jupyter Notebook\n",
    "\n",
    "I've been using Jupyter notebooks for quite a while and everytime I create a new notebook I have to write same 10-15 lines of *bare minimum* code with some visualization snippets that are mostly needed, so why not write them at once and use everytime? \n",
    "\n",
    "I always keep this page open in web browser to quickly copy snippets while *pythoning*.\n",
    "\n",
    "So here are few must have code snippets.\n",
    "\n",
    "## Must have Imports"
   ]
  },
  {
   "cell_type": "code",
   "execution_count": null,
   "metadata": {
    "colab": {},
    "colab_type": "code",
    "id": "vmqnYcWOXJ5G"
   },
   "outputs": [],
   "source": [
    "import pandas as pd\n",
    "import numpy as np\n",
    "import seaborn as sns\n",
    "import matplotlib.pyplot as plt\n",
    "import math"
   ]
  },
  {
   "cell_type": "markdown",
   "metadata": {
    "colab_type": "text",
    "id": "YqxyzcKIc9-L"
   },
   "source": [
    "## Datasets\n",
    "\n",
    "##### Boston Housing Dataset"
   ]
  },
  {
   "cell_type": "code",
   "execution_count": null,
   "metadata": {
    "colab": {},
    "colab_type": "code",
    "id": "ytFksm8CdCiH"
   },
   "outputs": [],
   "source": [
    "from sklearn.datasets import load_boston\n",
    "import pandas as pd\n",
    "\n",
    "boston = load_boston()\n",
    "data = pd.DataFrame(boston.data, columns=boston.feature_names)\n",
    "print(f\"Loaded {data.shape[0]} rows and {data.shape[1]} features.\")\n",
    "data['price'] = boston.target\n",
    "y = data['price']\n",
    "x = data.drop('price',axis=1)\n",
    "data.head(5)"
   ]
  },
  {
   "cell_type": "markdown",
   "metadata": {
    "colab_type": "text",
    "id": "ybeo7Q_0eV85"
   },
   "source": [
    "#### Californa Housing Dataset"
   ]
  },
  {
   "cell_type": "code",
   "execution_count": null,
   "metadata": {
    "colab": {},
    "colab_type": "code",
    "id": "Gv79Z5sAeZGZ"
   },
   "outputs": [],
   "source": [
    "from sklearn.datasets import fetch_california_housing\n",
    "dataset = fetch_california_housing()\n",
    "data = pd.DataFrame(dataset.data, columns=dataset.feature_names)\n",
    "print(f\"Loaded {data.shape[0]} rows and {data.shape[1]} features.\")\n",
    "data['price'] = dataset.target\n",
    "y = data['price']\n",
    "x = data.drop('price',axis=1)\n",
    "data.head(5)"
   ]
  },
  {
   "cell_type": "markdown",
   "metadata": {
    "colab_type": "text",
    "id": "Ok_c41l0dIzB"
   },
   "source": [
    "Iris Dataset"
   ]
  },
  {
   "cell_type": "code",
   "execution_count": null,
   "metadata": {
    "colab": {},
    "colab_type": "code",
    "id": "iv8Wx8SWdIXg"
   },
   "outputs": [],
   "source": [
    "from sklearn.datasets import load_iris\n",
    "import pandas as pd\n",
    "\n",
    "iris = load_iris()\n",
    "data = pd.DataFrame(iris.data, columns=iris.feature_names)\n",
    "print(f\"Loaded {data.shape[0]} rows and {data.shape[1]} features.\")\n",
    "data['target'] = iris.target\n",
    "y = data['target']\n",
    "x = data.drop('target',axis=1)\n",
    "data.head(5)"
   ]
  },
  {
   "cell_type": "markdown",
   "metadata": {
    "colab_type": "text",
    "id": "nrd4z64EetWz"
   },
   "source": [
    "## Reading FIles"
   ]
  },
  {
   "cell_type": "markdown",
   "metadata": {
    "colab_type": "text",
    "id": "wg0XlPxtVtbE"
   },
   "source": [
    "#### 2. Read CSV"
   ]
  },
  {
   "cell_type": "code",
   "execution_count": null,
   "metadata": {
    "colab": {},
    "colab_type": "code",
    "id": "WF70MMlklNcL"
   },
   "outputs": [],
   "source": [
    "path = \"\"\n",
    "file = \"\"\n",
    "data = pd.read_csv(path+file)\n",
    "data.shape"
   ]
  },
  {
   "cell_type": "markdown",
   "metadata": {
    "colab_type": "text",
    "id": "U3TeUrF1VynQ"
   },
   "source": [
    "#### 2. Read Excel"
   ]
  },
  {
   "cell_type": "code",
   "execution_count": null,
   "metadata": {
    "colab": {},
    "colab_type": "code",
    "id": "CwGr8Lbc18tx"
   },
   "outputs": [],
   "source": [
    "path = r\"\"\n",
    "file = \"\"\n",
    "sheet_name=\"\"\n",
    "data = pd.read_excel(path+file,sheet_name=sheet_name)\n",
    "data.shape"
   ]
  },
  {
   "cell_type": "markdown",
   "metadata": {
    "colab_type": "text",
    "id": "v2HWlOH8WAE7"
   },
   "source": [
    "#### 2. Read JSON"
   ]
  },
  {
   "cell_type": "code",
   "execution_count": null,
   "metadata": {
    "colab": {},
    "colab_type": "code",
    "id": "D1OTMOp4WDGD"
   },
   "outputs": [],
   "source": [
    "import json\n",
    "\n",
    "with open('filename.json') as f:\n",
    "    d = json.load(f)\n",
    "d"
   ]
  },
  {
   "cell_type": "markdown",
   "metadata": {
    "colab_type": "text",
    "id": "-VlKILIvWR7T"
   },
   "source": [
    "#### 4. Read Text file into lines"
   ]
  },
  {
   "cell_type": "code",
   "execution_count": null,
   "metadata": {
    "colab": {},
    "colab_type": "code",
    "id": "0j4zg-o5WRPu"
   },
   "outputs": [],
   "source": [
    "with open(\"file.txt\") as file_in:\n",
    "    lines = []\n",
    "    for line in file_in:\n",
    "        lines.append(line)"
   ]
  },
  {
   "cell_type": "markdown",
   "metadata": {
    "colab_type": "text",
    "id": "309sMSLwe0Vq"
   },
   "source": [
    "## EDA"
   ]
  },
  {
   "cell_type": "markdown",
   "metadata": {
    "colab_type": "text",
    "id": "SscZrtOHWXkv"
   },
   "source": [
    "Correlation Plot"
   ]
  },
  {
   "cell_type": "code",
   "execution_count": null,
   "metadata": {
    "colab": {},
    "colab_type": "code",
    "id": "VKu9Os4YXQ7v"
   },
   "outputs": [],
   "source": [
    "def corrplot(df,save=False,title=None):\n",
    "  \"\"\"\n",
    "  Plots correlation heatmap using Seaborn\n",
    "\n",
    "  args:\n",
    "  -----\n",
    "  df: Pandas Dataframe\n",
    "  save: True saves image\n",
    "  title:Optional title for plot\n",
    "\n",
    "  \"\"\"\n",
    "  cov = df.corr()\n",
    "  plt.figure(figsize = (len(df.columns.to_list())*1,len(df.columns.to_list())*0.75))\n",
    "  cols =  df.columns.to_list()\n",
    "  ax = plt.axes()\n",
    "  sns.heatmap(cov,annot=True,cmap=\"PiYG\",yticklabels=cols,xticklabels=df.columns.to_list(),ax=ax)\n",
    "  if title:\n",
    "    ax.set_title(title)\n",
    "  if save == True:\n",
    "    plt.savefig(\"Heatmap.png\")\n",
    "\n",
    "corrplot(data,save=True,title=\"My Heatmap\")"
   ]
  },
  {
   "cell_type": "markdown",
   "metadata": {
    "colab_type": "text",
    "id": "ENcSrR-3fVdL"
   },
   "source": [
    "KDE Plots"
   ]
  },
  {
   "cell_type": "code",
   "execution_count": null,
   "metadata": {
    "colab": {},
    "colab_type": "code",
    "id": "LC_r40-Ey14d"
   },
   "outputs": [],
   "source": [
    "def kde_plots(df,save=False):\n",
    "  \"\"\"\n",
    "  Plots KDE plots of all features in dataframe using Seaborn\n",
    "\n",
    "  args:\n",
    "  -----\n",
    "  df: Pandas Dataframe\n",
    "  save: True saves image\n",
    "  title:Optional title for plot\n",
    "\n",
    "  \"\"\"\n",
    "  rows=math.ceil(len(df.columns)/4)\n",
    "  fig, ax = plt.subplots(ncols=4,nrows=rows,figsize=(12, rows*2))\n",
    "  ix=0\n",
    "  fig.tight_layout()\n",
    "  for row in ax:\n",
    "      for col in row:\n",
    "          sns.distplot(df.iloc[:, ix].dropna(),norm_hist=False,ax=col,label=\"\")\n",
    "          col.set_title(df.columns[ix]) \n",
    "          col.set_xlabel('')\n",
    "          plt.text(0.2, 0.8,f'u:{round(df.iloc[:, ix].mean(),2)}\\nsd={round(df.iloc[:, ix].std(),2)}', ha='center', va='center', transform=col.transAxes)\n",
    "          ix+=1\n",
    "          if ix == len(df.columns):\n",
    "            break\n",
    "  plt.subplots_adjust(hspace = 0.4)\n",
    "  \n",
    "  if save == True:\n",
    "    plt.savefig(\"KDE_plots.png\")\n",
    "\n",
    "kde_plots(data,save=True)"
   ]
  },
  {
   "cell_type": "markdown",
   "metadata": {
    "colab_type": "text",
    "id": "xpOuewamialJ"
   },
   "source": [
    "I will add more snippets as an when I feel they are being used repetitively."
   ]
  },
  {
   "cell_type": "code",
   "execution_count": null,
   "metadata": {
    "colab": {},
    "colab_type": "code",
    "id": "BT5fL6UKfwNn"
   },
   "outputs": [],
   "source": []
  }
 ],
 "metadata": {
  "colab": {
   "name": "Must need for each data science notebook",
   "provenance": [],
   "toc_visible": true
  },
  "kernelspec": {
   "display_name": "Python 3",
   "language": "python",
   "name": "python3"
  },
  "language_info": {
   "codemirror_mode": {
    "name": "ipython",
    "version": 3
   },
   "file_extension": ".py",
   "mimetype": "text/x-python",
   "name": "python",
   "nbconvert_exporter": "python",
   "pygments_lexer": "ipython3",
   "version": "3.7.4"
  }
 },
 "nbformat": 4,
 "nbformat_minor": 1
}
